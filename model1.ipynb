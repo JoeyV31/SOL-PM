{
 "cells": [
  {
   "cell_type": "code",
   "execution_count": 2,
   "metadata": {
    "collapsed": false,
    "pycharm": {
     "name": "#%%\n"
    }
   },
   "outputs": [
    {
     "ename": "ModuleNotFoundError",
     "evalue": "No module named 'tensorflow'",
     "output_type": "error",
     "traceback": [
      "\u001b[0;31m---------------------------------------------------------------------------\u001b[0m",
      "\u001b[0;31mModuleNotFoundError\u001b[0m                       Traceback (most recent call last)",
      "Cell \u001b[0;32mIn[2], line 4\u001b[0m\n\u001b[1;32m      2\u001b[0m \u001b[39mimport\u001b[39;00m \u001b[39mpandas\u001b[39;00m \u001b[39mas\u001b[39;00m \u001b[39mpd\u001b[39;00m\n\u001b[1;32m      3\u001b[0m \u001b[39mfrom\u001b[39;00m \u001b[39msklearn\u001b[39;00m\u001b[39m.\u001b[39;00m\u001b[39mpreprocessing\u001b[39;00m \u001b[39mimport\u001b[39;00m StandardScaler\n\u001b[0;32m----> 4\u001b[0m \u001b[39mimport\u001b[39;00m \u001b[39mtensorflow\u001b[39;00m \u001b[39mas\u001b[39;00m \u001b[39mtf\u001b[39;00m\n\u001b[1;32m      5\u001b[0m \u001b[39mfrom\u001b[39;00m \u001b[39mtensorflow\u001b[39;00m\u001b[39m.\u001b[39;00m\u001b[39mpython\u001b[39;00m \u001b[39mimport\u001b[39;00m layers\n\u001b[1;32m      7\u001b[0m \u001b[39m#importingdat\u001b[39;00m\n",
      "\u001b[0;31mModuleNotFoundError\u001b[0m: No module named 'tensorflow'"
     ]
    }
   ],
   "source": [
    "import numpy as np\n",
    "import pandas as pd\n",
    "from sklearn.preprocessing import StandardScaler\n",
    "import tensorflow as tf\n",
    "from tensorflow.python import layers\n",
    "\n",
    "#importingdat\n",
    "data = pd.read_csv('curated-solubility-dataset.csv')\n",
    "\n",
    "#Feature extract and targeting\n",
    "X = data.drop(['Solubility'], axis=1).values\n",
    "y = data['Solubility'].values\n",
    "\n",
    "# Standardisation\n",
    "scaler = StandardScaler()\n",
    "X = scaler.fit_transform(X)\n",
    "\n",
    "# Neural arch\n",
    "model = tf.keras.Sequential([\n",
    "  layers.Dense(128, activation='relu', input_shape=[X.shape[1]]),\n",
    "  layers.Dense(64, activation='relu'),\n",
    "  layers.Dense(1, activation='sigmoid')\n",
    "])\n",
    "\n",
    "# Model Compilation\n",
    "model.compile(loss='mean_squared_error', optimizer='adam')\n",
    "\n",
    "# Model Training \n",
    "model.fit(X, y, epochs=100, batch_size=32, validation_split=0.2)\n",
    "\n",
    "# Model Evaluation\n",
    "loss = model.evaluate(X, y)\n",
    "print('Mean Squared Error:', loss)\n",
    "\n",
    "# Finally predict some shit\n",
    "# Make predictions\n",
    "smiles = 'CC(=O)NC1C(=O)N(C(=O)C2(C)CCCC2)C(=O)C2(C)CCCCC12' # is this what is meant by an example of a SMILES string\n",
    "x_pred = np.array([[0.0] * X.shape[1]]) # create an empty array with the same shape as X Added brackets to np.array to ensure that it creates a 2D array instead of a 1D array\n",
    "x_pred[0,:] = model(smiles) # compute the molecular descriptors\n",
    "x_pred = scaler.transform(x_pred)\n",
    "solubility_pred = model.predict(x_pred)\n",
    "print('Predicted Solubility:', solubility_pred[0][0])"
   ]
  }
 ],
 "metadata": {
  "kernelspec": {
   "display_name": ".venv",
   "language": "python",
   "name": "python3"
  },
  "language_info": {
   "codemirror_mode": {
    "name": "ipython",
    "version": 3
   },
   "file_extension": ".py",
   "mimetype": "text/x-python",
   "name": "python",
   "nbconvert_exporter": "python",
   "pygments_lexer": "ipython3",
   "version": "3.10.9"
  },
  "orig_nbformat": 4
 },
 "nbformat": 4,
 "nbformat_minor": 2
}
