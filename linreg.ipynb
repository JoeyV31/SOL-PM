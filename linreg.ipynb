{
 "cells": [
  {
   "cell_type": "code",
   "execution_count": null,
   "metadata": {},
   "outputs": [],
   "source": [
    "import pandas as pd\n",
    "import numpy as np\n",
    "import matplotlib.pyplot as plt\n",
    "import seaborn as sns\n",
    "from rdkit import Chem\n",
    "from rdkit.Chem import Descriptors\n",
    "from sklearn.preprocessing import OneHotEncoder\n",
    "from sklearn.model_selection import train_test_split\n",
    "from sklearn.linear_model import LinearRegression\n",
    "from sklearn.metrics import r2_score\n",
    "import featurewiz as gwiz"
   ]
  },
  {
   "cell_type": "code",
   "execution_count": null,
   "metadata": {},
   "outputs": [],
   "source": [
    "data = pd.read_csv('dataset.csv')\n",
    "data.head()"
   ]
  },
  {
   "cell_type": "code",
   "execution_count": null,
   "metadata": {},
   "outputs": [],
   "source": [
    "X = data.drop(['SMILES', 'Name'], axis=1)\n",
    "y = data[['SMILES', 'Name']]\n",
    "X_train, X_test, y_train, y_test = train_test_split(X, y, test_size=0.2, random_state=42)\n",
    "X_train.shape, X_test.shape\n"
   ]
  },
  {
   "cell_type": "code",
   "execution_count": null,
   "metadata": {},
   "outputs": [],
   "source": [
    "#fit a linear regression model on the original train set and evaluate its performance on the test set:\n",
    "\n",
    "# fit a linear regression model on the original train set\n",
    "model = LinearRegression()\n",
    "model.fit(X_train, y_train)\n",
    "\n",
    "# evaluate the model on the test set\n",
    "y_pred = model.predict(X_test)\n",
    "r2_score_before = r2_score(y_test, y_pred)\n",
    "print('R-square score before feature selection:', r2_score_before)\n",
    "\n",
    "#R-square score before feature selection: 0.9027043809921144"
   ]
  },
  {
   "cell_type": "code",
   "execution_count": null,
   "metadata": {},
   "outputs": [],
   "source": [
    "#Now, I’ll use featurewiz to select the best features from the train set using a single line of code:\n",
    "\n",
    "# use featurewiz to select the best features from the train set\n",
    "selected_features, _ = fw.featurewiz(X_train.join(y_train),target=['Y1', 'Y2'], corr_limit=0.7, verbose=2)\n",
    "print('Selected features:', selected_features)\n",
    "\n",
    "#Selected features: ['X1', 'X7', 'X4', 'X3', 'X5']"
   ]
  }
 ],
 "metadata": {
  "kernelspec": {
   "display_name": "my-rdkit-env",
   "language": "python",
   "name": "python3"
  },
  "language_info": {
   "codemirror_mode": {
    "name": "ipython",
    "version": 3
   },
   "file_extension": ".py",
   "mimetype": "text/x-python",
   "name": "python",
   "nbconvert_exporter": "python",
   "pygments_lexer": "ipython3",
   "version": "3.11.3"
  },
  "orig_nbformat": 4
 },
 "nbformat": 4,
 "nbformat_minor": 2
}
